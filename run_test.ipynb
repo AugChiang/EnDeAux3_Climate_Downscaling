{
 "cells": [
  {
   "cell_type": "code",
   "execution_count": 6,
   "metadata": {},
   "outputs": [
    {
     "data": {
      "text/plain": [
       "{'lr': 'aux_data/sd_25km',\n",
       " 'u': 'aux_data/u_npy',\n",
       " 'v': 'aux_data/v_npy',\n",
       " 'stat': 'aux_data/AuxDataBoundaryVal.json'}"
      ]
     },
     "execution_count": 6,
     "metadata": {},
     "output_type": "execute_result"
    }
   ],
   "source": [
    "import configparser\n",
    "\n",
    "# \n",
    "config = configparser.ConfigParser()\n",
    "config.read('config.ini')\n",
    "\n",
    "aux_path = dict(config['aux'])\n",
    "aux_path"
   ]
  },
  {
   "cell_type": "code",
   "execution_count": 3,
   "metadata": {},
   "outputs": [],
   "source": [
    "import json\n",
    "\n",
    "d = {\n",
    "    'u':{'min':-19.8128, 'max':22.79312, 'mean':1.49016},\n",
    "    'v':{'min':-23.51668, 'max':23.240267, 'mean':-0.1382056},\n",
    "    'msl':{'min':96824.2, 'max':103687.2, 'mean':100255.7},\n",
    "    'q700':{'min':0, 'max':0.0146, 'mean':0.0073},\n",
    "    't2m':{'min':-5.2, 'max':32.262, 'mean':13.531},\n",
    "    'lr':{'min':0, 'max':1277.652, 'mean':638.826}\n",
    "}\n",
    "\n",
    "with open('AuxDataBoundaryVal.json', 'w') as fp:\n",
    "    json.dump(d, fp)"
   ]
  },
  {
   "cell_type": "code",
   "execution_count": 4,
   "metadata": {},
   "outputs": [
    {
     "data": {
      "text/plain": [
       "{'u': {'min': -19.8128, 'max': 22.79312, 'mean': 1.49016},\n",
       " 'v': {'min': -23.51668, 'max': 23.240267, 'mean': -0.1382056},\n",
       " 'msl': {'min': 96824.2, 'max': 103687.2, 'mean': 100255.7},\n",
       " 'q700': {'min': 0, 'max': 0.0146, 'mean': 0.0073},\n",
       " 't2m': {'min': -5.2, 'max': 32.262, 'mean': 13.531},\n",
       " 'lr': {'min': 0, 'max': 1277.652, 'mean': 638.826}}"
      ]
     },
     "execution_count": 4,
     "metadata": {},
     "output_type": "execute_result"
    }
   ],
   "source": [
    "def js_r(filename: str):\n",
    "    with open(filename) as f_in:\n",
    "        return json.load(f_in)\n",
    "\n",
    "read_json = js_r(\"aux_data/AuxDataBoundaryVal.json\")\n",
    "read_json"
   ]
  }
 ],
 "metadata": {
  "kernelspec": {
   "display_name": "das",
   "language": "python",
   "name": "python3"
  },
  "language_info": {
   "codemirror_mode": {
    "name": "ipython",
    "version": 3
   },
   "file_extension": ".py",
   "mimetype": "text/x-python",
   "name": "python",
   "nbconvert_exporter": "python",
   "pygments_lexer": "ipython3",
   "version": "3.9.19"
  }
 },
 "nbformat": 4,
 "nbformat_minor": 2
}
